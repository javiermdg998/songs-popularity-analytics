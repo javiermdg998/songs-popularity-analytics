{
 "cells": [
  {
   "cell_type": "code",
   "execution_count": 16,
   "metadata": {
    "colab": {
     "base_uri": "https://localhost:8080/"
    },
    "executionInfo": {
     "elapsed": 471,
     "status": "ok",
     "timestamp": 1610366139473,
     "user": {
      "displayName": "Hugo Sanjurjo González",
      "photoUrl": "",
      "userId": "05468266917062109477"
     },
     "user_tz": -60
    },
    "id": "_HkWPSfBwF7m",
    "outputId": "dbcb78f0-51f1-49cf-ddee-8b8fe3525b7b"
   },
   "outputs": [
    {
     "name": "stdout",
     "output_type": "stream",
     "text": [
      "Drive already mounted at /content/drive; to attempt to forcibly remount, call drive.mount(\"/content/drive\", force_remount=True).\n"
     ]
    }
   ],
   "source": [
    "\"Hacemos los imports necesarios, y permitimos a collab acceder al archivo de drive \"\n",
    "import pandas as pd \n",
    "from google.colab import drive\n",
    "import matplotlib.pyplot as plt\n",
    "import numpy as np\n",
    "drive.mount('/content/drive')\n"
   ]
  },
  {
   "cell_type": "markdown",
   "metadata": {
    "id": "RFsd6AUNIXkG"
   },
   "source": [
    "# Análisis de Popularidad de Canciones\n",
    "Este notebook explora cómo analizar datos relacionados con la popularidad de canciones utilizando técnicas de visualización y manipulación de datos."
   ]
  },
  {
   "cell_type": "code",
   "execution_count": 17,
   "metadata": {
    "colab": {
     "base_uri": "https://localhost:8080/",
     "height": 1000
    },
    "executionInfo": {
     "elapsed": 1729,
     "status": "ok",
     "timestamp": 1610366140751,
     "user": {
      "displayName": "Hugo Sanjurjo González",
      "photoUrl": "",
      "userId": "05468266917062109477"
     },
     "user_tz": -60
    },
    "id": "A-1_3-ijwtaj",
    "outputId": "131452da-36d6-498c-f326-40683d3784db"
   },
   "outputs": [
    {
     "data": {
      "text/html": [
       "<div>\n",
       "<style scoped>\n",
       "    .dataframe tbody tr th:only-of-type {\n",
       "        vertical-align: middle;\n",
       "    }\n",
       "\n",
       "    .dataframe tbody tr th {\n",
       "        vertical-align: top;\n",
       "    }\n",
       "\n",
       "    .dataframe thead th {\n",
       "        text-align: right;\n",
       "    }\n",
       "</style>\n",
       "<table border=\"1\" class=\"dataframe\">\n",
       "  <thead>\n",
       "    <tr style=\"text-align: right;\">\n",
       "      <th></th>\n",
       "      <th>valence</th>\n",
       "      <th>year</th>\n",
       "      <th>acousticness</th>\n",
       "      <th>artists</th>\n",
       "      <th>danceability</th>\n",
       "      <th>duration_ms</th>\n",
       "      <th>energy</th>\n",
       "      <th>explicit</th>\n",
       "      <th>instrumentalness</th>\n",
       "      <th>key</th>\n",
       "      <th>liveness</th>\n",
       "      <th>loudness</th>\n",
       "      <th>mode</th>\n",
       "      <th>name</th>\n",
       "      <th>popularity</th>\n",
       "      <th>release_date</th>\n",
       "      <th>speechiness</th>\n",
       "      <th>tempo</th>\n",
       "    </tr>\n",
       "  </thead>\n",
       "  <tbody>\n",
       "    <tr>\n",
       "      <th>0</th>\n",
       "      <td>0.0594</td>\n",
       "      <td>1921</td>\n",
       "      <td>0.982000</td>\n",
       "      <td>['Sergei Rachmaninoff', 'James Levine', 'Berli...</td>\n",
       "      <td>0.279</td>\n",
       "      <td>831667</td>\n",
       "      <td>0.211</td>\n",
       "      <td>0</td>\n",
       "      <td>0.878000</td>\n",
       "      <td>10</td>\n",
       "      <td>0.6650</td>\n",
       "      <td>-20.096</td>\n",
       "      <td>1</td>\n",
       "      <td>Piano Concerto No. 3 in D Minor, Op. 30: III. ...</td>\n",
       "      <td>0.04</td>\n",
       "      <td>1921</td>\n",
       "      <td>0.0366</td>\n",
       "      <td>80.954</td>\n",
       "    </tr>\n",
       "    <tr>\n",
       "      <th>1</th>\n",
       "      <td>0.9630</td>\n",
       "      <td>1921</td>\n",
       "      <td>0.732000</td>\n",
       "      <td>['Dennis Day']</td>\n",
       "      <td>0.819</td>\n",
       "      <td>180533</td>\n",
       "      <td>0.341</td>\n",
       "      <td>0</td>\n",
       "      <td>0.000000</td>\n",
       "      <td>7</td>\n",
       "      <td>0.1600</td>\n",
       "      <td>-12.441</td>\n",
       "      <td>1</td>\n",
       "      <td>Clancy Lowered the Boom</td>\n",
       "      <td>0.05</td>\n",
       "      <td>1921</td>\n",
       "      <td>0.4150</td>\n",
       "      <td>60.936</td>\n",
       "    </tr>\n",
       "    <tr>\n",
       "      <th>2</th>\n",
       "      <td>0.0394</td>\n",
       "      <td>1921</td>\n",
       "      <td>0.961000</td>\n",
       "      <td>['KHP Kridhamardawa Karaton Ngayogyakarta Hadi...</td>\n",
       "      <td>0.328</td>\n",
       "      <td>500062</td>\n",
       "      <td>0.166</td>\n",
       "      <td>0</td>\n",
       "      <td>0.913000</td>\n",
       "      <td>3</td>\n",
       "      <td>0.1010</td>\n",
       "      <td>-14.850</td>\n",
       "      <td>1</td>\n",
       "      <td>Gati Bali</td>\n",
       "      <td>0.05</td>\n",
       "      <td>1921</td>\n",
       "      <td>0.0339</td>\n",
       "      <td>110.339</td>\n",
       "    </tr>\n",
       "    <tr>\n",
       "      <th>3</th>\n",
       "      <td>0.1650</td>\n",
       "      <td>1921</td>\n",
       "      <td>0.967000</td>\n",
       "      <td>['Frank Parker']</td>\n",
       "      <td>0.275</td>\n",
       "      <td>210000</td>\n",
       "      <td>0.309</td>\n",
       "      <td>0</td>\n",
       "      <td>0.000028</td>\n",
       "      <td>5</td>\n",
       "      <td>0.3810</td>\n",
       "      <td>-9.316</td>\n",
       "      <td>1</td>\n",
       "      <td>Danny Boy</td>\n",
       "      <td>0.03</td>\n",
       "      <td>1921</td>\n",
       "      <td>0.0354</td>\n",
       "      <td>100.109</td>\n",
       "    </tr>\n",
       "    <tr>\n",
       "      <th>4</th>\n",
       "      <td>0.2530</td>\n",
       "      <td>1921</td>\n",
       "      <td>0.957000</td>\n",
       "      <td>['Phil Regan']</td>\n",
       "      <td>0.418</td>\n",
       "      <td>166693</td>\n",
       "      <td>0.193</td>\n",
       "      <td>0</td>\n",
       "      <td>0.000002</td>\n",
       "      <td>3</td>\n",
       "      <td>0.2290</td>\n",
       "      <td>-10.096</td>\n",
       "      <td>1</td>\n",
       "      <td>When Irish Eyes Are Smiling</td>\n",
       "      <td>0.02</td>\n",
       "      <td>1921</td>\n",
       "      <td>0.0380</td>\n",
       "      <td>101.665</td>\n",
       "    </tr>\n",
       "    <tr>\n",
       "      <th>...</th>\n",
       "      <td>...</td>\n",
       "      <td>...</td>\n",
       "      <td>...</td>\n",
       "      <td>...</td>\n",
       "      <td>...</td>\n",
       "      <td>...</td>\n",
       "      <td>...</td>\n",
       "      <td>...</td>\n",
       "      <td>...</td>\n",
       "      <td>...</td>\n",
       "      <td>...</td>\n",
       "      <td>...</td>\n",
       "      <td>...</td>\n",
       "      <td>...</td>\n",
       "      <td>...</td>\n",
       "      <td>...</td>\n",
       "      <td>...</td>\n",
       "      <td>...</td>\n",
       "    </tr>\n",
       "    <tr>\n",
       "      <th>170628</th>\n",
       "      <td>0.3230</td>\n",
       "      <td>2020</td>\n",
       "      <td>0.000206</td>\n",
       "      <td>['Miley Cyrus']</td>\n",
       "      <td>0.407</td>\n",
       "      <td>290768</td>\n",
       "      <td>0.872</td>\n",
       "      <td>0</td>\n",
       "      <td>0.045100</td>\n",
       "      <td>7</td>\n",
       "      <td>0.1270</td>\n",
       "      <td>-5.001</td>\n",
       "      <td>1</td>\n",
       "      <td>Zombie (Live from the NIVA Save Our Stages Fes...</td>\n",
       "      <td>0.71</td>\n",
       "      <td>2020-10-23</td>\n",
       "      <td>0.0354</td>\n",
       "      <td>164.000</td>\n",
       "    </tr>\n",
       "    <tr>\n",
       "      <th>170629</th>\n",
       "      <td>0.6910</td>\n",
       "      <td>2020</td>\n",
       "      <td>0.040600</td>\n",
       "      <td>['Rauw Alejandro', 'Camilo']</td>\n",
       "      <td>0.721</td>\n",
       "      <td>222680</td>\n",
       "      <td>0.637</td>\n",
       "      <td>0</td>\n",
       "      <td>0.000000</td>\n",
       "      <td>9</td>\n",
       "      <td>0.0525</td>\n",
       "      <td>-5.134</td>\n",
       "      <td>1</td>\n",
       "      <td>Tattoo - Remix with Camilo</td>\n",
       "      <td>0.71</td>\n",
       "      <td>2020-11-13</td>\n",
       "      <td>0.2860</td>\n",
       "      <td>193.922</td>\n",
       "    </tr>\n",
       "    <tr>\n",
       "      <th>170630</th>\n",
       "      <td>0.6590</td>\n",
       "      <td>2020</td>\n",
       "      <td>0.002480</td>\n",
       "      <td>['DVBBS', 'Quinn XCII']</td>\n",
       "      <td>0.714</td>\n",
       "      <td>150819</td>\n",
       "      <td>0.798</td>\n",
       "      <td>0</td>\n",
       "      <td>0.000678</td>\n",
       "      <td>5</td>\n",
       "      <td>0.1030</td>\n",
       "      <td>-4.239</td>\n",
       "      <td>0</td>\n",
       "      <td>West Coast (feat. Quinn XCII)</td>\n",
       "      <td>0.67</td>\n",
       "      <td>2020-10-16</td>\n",
       "      <td>0.0612</td>\n",
       "      <td>119.017</td>\n",
       "    </tr>\n",
       "    <tr>\n",
       "      <th>170631</th>\n",
       "      <td>0.3270</td>\n",
       "      <td>2020</td>\n",
       "      <td>0.217000</td>\n",
       "      <td>['YoungBoy Never Broke Again']</td>\n",
       "      <td>0.485</td>\n",
       "      <td>156077</td>\n",
       "      <td>0.814</td>\n",
       "      <td>1</td>\n",
       "      <td>0.000000</td>\n",
       "      <td>9</td>\n",
       "      <td>0.1120</td>\n",
       "      <td>-3.907</td>\n",
       "      <td>1</td>\n",
       "      <td>Red Eye</td>\n",
       "      <td>0.63</td>\n",
       "      <td>2020-02-21</td>\n",
       "      <td>0.1380</td>\n",
       "      <td>159.894</td>\n",
       "    </tr>\n",
       "    <tr>\n",
       "      <th>170632</th>\n",
       "      <td>0.7380</td>\n",
       "      <td>2020</td>\n",
       "      <td>0.160000</td>\n",
       "      <td>['Rauw Alejandro', 'Dalex', 'Lenny Tavárez', '...</td>\n",
       "      <td>0.788</td>\n",
       "      <td>325692</td>\n",
       "      <td>0.629</td>\n",
       "      <td>1</td>\n",
       "      <td>0.000828</td>\n",
       "      <td>0</td>\n",
       "      <td>0.0598</td>\n",
       "      <td>-4.727</td>\n",
       "      <td>1</td>\n",
       "      <td>Elegí (feat. Farruko, Anuel AA, Sech, Dímelo F...</td>\n",
       "      <td>0.75</td>\n",
       "      <td>2020-08-28</td>\n",
       "      <td>0.0883</td>\n",
       "      <td>172.044</td>\n",
       "    </tr>\n",
       "  </tbody>\n",
       "</table>\n",
       "<p>170633 rows × 18 columns</p>\n",
       "</div>"
      ],
      "text/plain": [
       "        valence  year  acousticness  ... release_date  speechiness    tempo\n",
       "0        0.0594  1921      0.982000  ...         1921       0.0366   80.954\n",
       "1        0.9630  1921      0.732000  ...         1921       0.4150   60.936\n",
       "2        0.0394  1921      0.961000  ...         1921       0.0339  110.339\n",
       "3        0.1650  1921      0.967000  ...         1921       0.0354  100.109\n",
       "4        0.2530  1921      0.957000  ...         1921       0.0380  101.665\n",
       "...         ...   ...           ...  ...          ...          ...      ...\n",
       "170628   0.3230  2020      0.000206  ...   2020-10-23       0.0354  164.000\n",
       "170629   0.6910  2020      0.040600  ...   2020-11-13       0.2860  193.922\n",
       "170630   0.6590  2020      0.002480  ...   2020-10-16       0.0612  119.017\n",
       "170631   0.3270  2020      0.217000  ...   2020-02-21       0.1380  159.894\n",
       "170632   0.7380  2020      0.160000  ...   2020-08-28       0.0883  172.044\n",
       "\n",
       "[170633 rows x 18 columns]"
      ]
     },
     "execution_count": 17,
     "metadata": {
      "tags": []
     },
     "output_type": "execute_result"
    }
   ],
   "source": [
    "\"Leemos el csv y lo 'limpiamos' aunque viene con los datos en perfecto estado lo único que haremos será dividir la variable popularity entre 100 para posteriormente facilitar el trabajo \"\n",
    "df=pd.read_csv('/content/drive/Shareddrives/6_pr4/data.csv')\n",
    "df.drop(columns=[\"id\"], inplace=True)\n",
    "df.popularity=df.popularity.div(100)\n",
    "df.head(-20)"
   ]
  },
  {
   "cell_type": "code",
   "execution_count": 18,
   "metadata": {
    "colab": {
     "base_uri": "https://localhost:8080/"
    },
    "executionInfo": {
     "elapsed": 1722,
     "status": "ok",
     "timestamp": 1610366140753,
     "user": {
      "displayName": "Hugo Sanjurjo González",
      "photoUrl": "",
      "userId": "05468266917062109477"
     },
     "user_tz": -60
    },
    "id": "dkb0hXBQ11GZ",
    "outputId": "13cf0e0f-45e2-4dcd-8323-dc905f764ba5"
   },
   "outputs": [
    {
     "data": {
      "text/plain": [
       "(170653, 18)"
      ]
     },
     "execution_count": 18,
     "metadata": {
      "tags": []
     },
     "output_type": "execute_result"
    }
   ],
   "source": [
    "df.shape"
   ]
  },
  {
   "cell_type": "code",
   "execution_count": 19,
   "metadata": {
    "colab": {
     "base_uri": "https://localhost:8080/"
    },
    "executionInfo": {
     "elapsed": 1717,
     "status": "ok",
     "timestamp": 1610366140754,
     "user": {
      "displayName": "Hugo Sanjurjo González",
      "photoUrl": "",
      "userId": "05468266917062109477"
     },
     "user_tz": -60
    },
    "id": "QgIk7y7Zx39C",
    "outputId": "5e3c1489-0969-49c8-ed78-806ae35e6064"
   },
   "outputs": [
    {
     "data": {
      "text/plain": [
       "valence             float64\n",
       "year                  int64\n",
       "acousticness        float64\n",
       "artists              object\n",
       "danceability        float64\n",
       "duration_ms           int64\n",
       "energy              float64\n",
       "explicit              int64\n",
       "instrumentalness    float64\n",
       "key                   int64\n",
       "liveness            float64\n",
       "loudness            float64\n",
       "mode                  int64\n",
       "name                 object\n",
       "popularity          float64\n",
       "release_date         object\n",
       "speechiness         float64\n",
       "tempo               float64\n",
       "dtype: object"
      ]
     },
     "execution_count": 19,
     "metadata": {
      "tags": []
     },
     "output_type": "execute_result"
    }
   ],
   "source": [
    "df.dtypes"
   ]
  },
  {
   "cell_type": "markdown",
   "metadata": {
    "id": "19Ivo8U4JVIR"
   },
   "source": [
    "## Objetivo\n",
    "El objetivo de este notebook es mostrar cómo se pueden utilizar herramientas de Python para explorar y visualizar datos musicales, identificando patrones y tendencias en la popularidad de las canciones."
   ]
  },
  {
   "cell_type": "code",
   "execution_count": 20,
   "metadata": {
    "executionInfo": {
     "elapsed": 1714,
     "status": "ok",
     "timestamp": 1610366140755,
     "user": {
      "displayName": "Hugo Sanjurjo González",
      "photoUrl": "",
      "userId": "05468266917062109477"
     },
     "user_tz": -60
    },
    "id": "8EZ9duUc2FHg"
   },
   "outputs": [],
   "source": [
    "train_data=df.drop([\"year\",\"artists\", \"duration_ms\", \"explicit\", \"liveness\", \"loudness\", \"mode\", \"name\", \"popularity\", \"release_date\"],axis=1 )\n",
    "heatmap_data=df.drop([\"artists\",\"name\",\"release_date\"],axis=1)"
   ]
  },
  {
   "cell_type": "code",
   "execution_count": 21,
   "metadata": {
    "colab": {
     "base_uri": "https://localhost:8080/"
    },
    "executionInfo": {
     "elapsed": 1708,
     "status": "ok",
     "timestamp": 1610366140756,
     "user": {
      "displayName": "Hugo Sanjurjo González",
      "photoUrl": "",
      "userId": "05468266917062109477"
     },
     "user_tz": -60
    },
    "id": "jV5kiD7256-3",
    "outputId": "442bf753-fa59-4aaf-bc6f-e5399a51e370"
   },
   "outputs": [
    {
     "data": {
      "text/plain": [
       "valence             float64\n",
       "year                  int64\n",
       "acousticness        float64\n",
       "danceability        float64\n",
       "duration_ms           int64\n",
       "energy              float64\n",
       "explicit              int64\n",
       "instrumentalness    float64\n",
       "key                   int64\n",
       "liveness            float64\n",
       "loudness            float64\n",
       "mode                  int64\n",
       "popularity          float64\n",
       "speechiness         float64\n",
       "tempo               float64\n",
       "dtype: object"
      ]
     },
     "execution_count": 21,
     "metadata": {
      "tags": []
     },
     "output_type": "execute_result"
    }
   ],
   "source": [
    "heatmap_data.dtypes"
   ]
  },
  {
   "cell_type": "code",
   "execution_count": 22,
   "metadata": {
    "colab": {
     "base_uri": "https://localhost:8080/",
     "height": 346
    },
    "executionInfo": {
     "elapsed": 2442,
     "status": "ok",
     "timestamp": 1610366141500,
     "user": {
      "displayName": "Hugo Sanjurjo González",
      "photoUrl": "",
      "userId": "05468266917062109477"
     },
     "user_tz": -60
    },
    "id": "fXUc7nAC4fdi",
    "outputId": "d89b5393-4b85-4f04-cbb4-987e771c332f"
   },
   "outputs": [
    {
     "data": {
      "image/png": "[encoded data removed]",
      "text/plain": [
       "<Figure size 432x288 with 2 Axes>"
      ]
     },
     "metadata": {
      "needs_background": "light",
      "tags": []
     },
     "output_type": "display_data"
    }
   ],
   "source": [
    "import seaborn as sns\n",
    "corr=heatmap_data.corr()\n",
    "ax = sns.heatmap(corr,square=True)"
   ]
  },
  {
   "cell_type": "code",
   "execution_count": 23,
   "metadata": {
    "executionInfo": {
     "elapsed": 2442,
     "status": "ok",
     "timestamp": 1610366141502,
     "user": {
      "displayName": "Hugo Sanjurjo González",
      "photoUrl": "",
      "userId": "05468266917062109477"
     },
     "user_tz": -60
    },
    "id": "IsWjcN0Z_z2a"
   },
   "outputs": [],
   "source": [
    "data_x=df[\"year\"]\n",
    "data_y=df[\"popularity\"]"
   ]
  },
  {
   "cell_type": "code",
   "execution_count": 24,
   "metadata": {
    "colab": {
     "base_uri": "https://localhost:8080/",
     "height": 283
    },
    "executionInfo": {
     "elapsed": 3222,
     "status": "ok",
     "timestamp": 1610366142294,
     "user": {
      "displayName": "Hugo Sanjurjo González",
      "photoUrl": "",
      "userId": "05468266917062109477"
     },
     "user_tz": -60
    },
    "id": "EFlk0hji_3fy",
    "outputId": "069b8e69-4e9c-4222-b8b9-c02b8b71cee5"
   },
   "outputs": [
    {
     "data": {
      "text/plain": [
       "<matplotlib.collections.PathCollection at 0x7f81b67bf588>"
      ]
     },
     "execution_count": 24,
     "metadata": {
      "tags": []
     },
     "output_type": "execute_result"
    },
    {
     "data": {
      "image/png": "[encoded data removed]",
      "text/plain": [
       "<Figure size 432x288 with 1 Axes>"
      ]
     },
     "metadata": {
      "needs_background": "light",
      "tags": []
     },
     "output_type": "display_data"
    }
   ],
   "source": [
    "plt.scatter(data_x,data_y)"
   ]
  },
  {
   "cell_type": "markdown",
   "metadata": {
    "id": "KR9FPkslKecN"
   },
   "source": [
    " Viendo estos dos ultimos gráficos, lo que se nos ocurre es predecir la popularidad de una canción basandonos en algunos de los parámetros de esta. Aunque es importante mencionar que la variable \"year\" puede llevar a error ya que aunque se vea un aumento de la popularidad en cuanto los años avanzan también hay que tener en cuenta hay muchas mas canciones, y muchas de ellas no llegan a ser populares. En definitiva, las canciones populares son mas populares y las menos populares lo serán menos aún, creemos que se debe a la popularización de internet."
   ]
  },
  {
   "cell_type": "markdown",
   "metadata": {
    "id": "79MrHfiLL_Jz"
   },
   "source": [
    "## Hacemos la primera pruba de predicción de popularidad en función de las variables \"tempo\", \"loudness\", \"energy\" y \"year\" mediante un modelo de regresión lineal.\n"
   ]
  },
  {
   "cell_type": "code",
   "execution_count": 25,
   "metadata": {
    "executionInfo": {
     "elapsed": 3221,
     "status": "ok",
     "timestamp": 1610366142296,
     "user": {
      "displayName": "Hugo Sanjurjo González",
      "photoUrl": "",
      "userId": "05468266917062109477"
     },
     "user_tz": -60
    },
    "id": "U5TGdhK-DshW"
   },
   "outputs": [],
   "source": [
    "from sklearn.linear_model import LinearRegression\n",
    "from sklearn.model_selection import train_test_split\n",
    "\n",
    "regresion_x=heatmap_data[[\"tempo\",\"loudness\",\"energy\", \"year\"]]\n",
    "regresion_y=heatmap_data[\"popularity\"]\n",
    "\n",
    "X_train, X_test, y_train, y_test = train_test_split(regresion_x, regresion_y, test_size=0.2, random_state=0)\n"
   ]
  },
  {
   "cell_type": "code",
   "execution_count": 26,
   "metadata": {
    "colab": {
     "base_uri": "https://localhost:8080/"
    },
    "executionInfo": {
     "elapsed": 3219,
     "status": "ok",
     "timestamp": 1610366142300,
     "user": {
      "displayName": "Hugo Sanjurjo González",
      "photoUrl": "",
      "userId": "05468266917062109477"
     },
     "user_tz": -60
    },
    "id": "3i1n2GRZFR88",
    "outputId": "bde4d081-620e-4600-b262-b03bc69a2a9e"
   },
   "outputs": [
    {
     "name": "stdout",
     "output_type": "stream",
     "text": [
      "Precisión: 0.7539272410220685\n"
     ]
    }
   ],
   "source": [
    "reg = LinearRegression().fit(X_train, y_train)\n",
    "print(\"Precisión: \"+str(reg.score(X_test, y_test)))"
   ]
  },
  {
   "cell_type": "code",
   "execution_count": 27,
   "metadata": {
    "colab": {
     "base_uri": "https://localhost:8080/"
    },
    "executionInfo": {
     "elapsed": 3216,
     "status": "ok",
     "timestamp": 1610366142302,
     "user": {
      "displayName": "Hugo Sanjurjo González",
      "photoUrl": "",
      "userId": "05468266917062109477"
     },
     "user_tz": -60
    },
    "id": "r8h4OzLlE8y7",
    "outputId": "f9d21cbd-fc33-4391-96fd-0fe206f1c62e"
   },
   "outputs": [
    {
     "name": "stdout",
     "output_type": "stream",
     "text": [
      "Popularidad real: 0.5 Popularidad de predicción: 0.5855121358806183\n",
      "Popularidad real: 0.61 Popularidad de predicción: 0.5119471103331961\n",
      "Popularidad real: 0.54 Popularidad de predicción: 0.5901602114974107\n",
      "Popularidad real: 0.29 Popularidad de predicción: 0.356548343926546\n",
      "Popularidad real: 0.0 Popularidad de predicción: -0.0298679219872362\n",
      "Popularidad real: 0.09 Popularidad de predicción: 0.11082292317531817\n",
      "Popularidad real: 0.17 Popularidad de predicción: 0.2122933033539809\n",
      "Popularidad real: 0.59 Popularidad de predicción: 0.5499866409149607\n",
      "Popularidad real: 0.68 Popularidad de predicción: 0.5840941128274206\n",
      "Popularidad real: 0.66 Popularidad de predicción: 0.6198589914330395\n",
      "Popularidad real: 0.17 Popularidad de predicción: 0.219165946354412\n",
      "Popularidad real: 0.37 Popularidad de predicción: 0.4949901219933821\n",
      "Popularidad real: 0.41 Popularidad de predicción: 0.6270527425507915\n",
      "Popularidad real: 0.49 Popularidad de predicción: 0.562679916221386\n",
      "Popularidad real: 0.38 Popularidad de predicción: 0.48685423873376976\n",
      "Popularidad real: 0.32 Popularidad de predicción: 0.18192236577197285\n",
      "Popularidad real: 0.46 Popularidad de predicción: 0.5189675137060057\n",
      "Popularidad real: 0.3 Popularidad de predicción: 0.2775874988401945\n",
      "Popularidad real: 0.7 Popularidad de predicción: 0.6302918717165298\n",
      "Popularidad real: 0.0 Popularidad de predicción: 0.011764757580092322\n",
      "Popularidad real: 0.35 Popularidad de predicción: 0.4128345635291186\n",
      "Popularidad real: 0.43 Popularidad de predicción: 0.5515201875786655\n",
      "Popularidad real: 0.27 Popularidad de predicción: 0.36894349165150864\n",
      "Popularidad real: 0.61 Popularidad de predicción: 0.6077028059631271\n",
      "Popularidad real: 0.01 Popularidad de predicción: 0.13373743822801742\n",
      "Popularidad real: 0.54 Popularidad de predicción: 0.5562838806509678\n",
      "Popularidad real: 0.5 Popularidad de predicción: 0.5834747715575563\n",
      "Popularidad real: 0.26 Popularidad de predicción: 0.3487662033434944\n",
      "Popularidad real: 0.39 Popularidad de predicción: 0.4220076623021871\n",
      "Popularidad real: 0.65 Popularidad de predicción: 0.6230841927726498\n",
      "Popularidad real: 0.11 Popularidad de predicción: 0.1480189307024009\n",
      "Popularidad real: 0.16 Popularidad de predicción: 0.22972546404916372\n",
      "Popularidad real: 0.28 Popularidad de predicción: 0.35225083535527624\n",
      "Popularidad real: 0.31 Popularidad de predicción: 0.4029549109992274\n",
      "Popularidad real: 0.24 Popularidad de predicción: 0.2538669841429684\n",
      "Popularidad real: 0.3 Popularidad de predicción: 0.2709863401818975\n",
      "Popularidad real: 0.05 Popularidad de predicción: 0.16158399205571783\n",
      "Popularidad real: 0.08 Popularidad de predicción: 0.1462977776902239\n",
      "Popularidad real: 0.53 Popularidad de predicción: 0.5663747925252487\n",
      "Popularidad real: 0.0 Popularidad de predicción: -0.026972900692470603\n",
      "Popularidad real: 0.53 Popularidad de predicción: 0.5401987639886823\n",
      "Popularidad real: 0.08 Popularidad de predicción: 0.19546414243223253\n",
      "Popularidad real: 0.7 Popularidad de predicción: 0.6200746106784703\n",
      "Popularidad real: 0.55 Popularidad de predicción: 0.49891012072105667\n",
      "Popularidad real: 0.0 Popularidad de predicción: -0.04508088422251255\n",
      "Popularidad real: 0.18 Popularidad de predicción: 0.18617005364605888\n",
      "Popularidad real: 0.48 Popularidad de predicción: 0.3724286789796647\n",
      "Popularidad real: 0.55 Popularidad de predicción: 0.20900622548197312\n",
      "Popularidad real: 0.29 Popularidad de predicción: 0.3543920515603567\n",
      "Popularidad real: 0.18 Popularidad de predicción: 0.17896251440146038\n"
     ]
    }
   ],
   "source": [
    "pred=reg.predict(X_test)\n",
    "for i in range(len(pred[0:50])): \n",
    "    pre=pred[i]\n",
    "    real=y_test.iloc[i]\n",
    "    print(\"Popularidad real: \"+str(real)+\" Popularidad de predicción: \"+str(pre))"
   ]
  },
  {
   "cell_type": "markdown",
   "metadata": {
    "id": "zXQNRfVCHfCU"
   },
   "source": [
    " Si que se ve que la predicción es bastante buena, aún así hay varios aspectos que influyen en la popularidad de una canción que no hemos valorado por lo que este modelo es mejorable, como por ejemplo los artistas, una canción puede tener las mismas propiedades pero si la hace un artista con mayor alcance tendrá mas posibilidades de ser popular. También tiene una gran importancia la variable año, teniendola en cuenta para el modelo se obtiene una precisión de entorno al 75% mientras que si dejamos la variable año fuera del modelo la precisión bajará hasta un 29%.\n"
   ]
  },
  {
   "cell_type": "markdown",
   "metadata": {
    "id": "4lvSGIyX3Yvu"
   },
   "source": [
    "## Vamos a añadir una columna con la popularidad media de cada uno de los artistas (únicamente cuando son los artistas principales, no contamos las colaboraciones)"
   ]
  },
  {
   "cell_type": "code",
   "execution_count": 28,
   "metadata": {
    "colab": {
     "base_uri": "https://localhost:8080/"
    },
    "executionInfo": {
     "elapsed": 3416,
     "status": "ok",
     "timestamp": 1610366142507,
     "user": {
      "displayName": "Hugo Sanjurjo González",
      "photoUrl": "",
      "userId": "05468266917062109477"
     },
     "user_tz": -60
    },
    "id": "AhI2NG6nSFwS",
    "outputId": "d6c1d7f6-d637-4ca8-c6eb-6f8170480411"
   },
   "outputs": [
    {
     "name": "stdout",
     "output_type": "stream",
     "text": [
      "170653\n",
      "170653\n"
     ]
    }
   ],
   "source": [
    "\"Le añadimos al df una variable mas con el artista principal\"\n",
    "def extraer_artista(cadena):\n",
    "    cadena=cadena[1:-1]\n",
    "    return cadena.split(\",\")[0][1:-1]\n",
    "lst=[]\n",
    "for i in df.artists:\n",
    "  art=extraer_artista(i)\n",
    "  lst.append(art) \n",
    "\n",
    "print(len(lst))\n",
    "print(len(df))\n",
    "\n",
    "df[\"MainArtist\"]=lst\n"
   ]
  },
  {
   "cell_type": "code",
   "execution_count": 29,
   "metadata": {
    "executionInfo": {
     "elapsed": 477970,
     "status": "ok",
     "timestamp": 1610366617063,
     "user": {
      "displayName": "Hugo Sanjurjo González",
      "photoUrl": "",
      "userId": "05468266917062109477"
     },
     "user_tz": -60
    },
    "id": "gi7kAdS8TEK0"
   },
   "outputs": [],
   "source": [
    "\"Añadimos una columna al dataframe con la popularidad media de cada artista\"\n",
    "uni=df['MainArtist'].unique()\n",
    "df[\"PopAverage\"] = np.nan\n",
    "for el in uni:\n",
    "  med=df[df[\"MainArtist\"] == el].popularity.mean()\n",
    "  df.loc[df.MainArtist == el, 'PopAverage'] =med\n"
   ]
  },
  {
   "cell_type": "code",
   "execution_count": 30,
   "metadata": {
    "colab": {
     "base_uri": "https://localhost:8080/",
     "height": 791
    },
    "executionInfo": {
     "elapsed": 477973,
     "status": "ok",
     "timestamp": 1610366617068,
     "user": {
      "displayName": "Hugo Sanjurjo González",
      "photoUrl": "",
      "userId": "05468266917062109477"
     },
     "user_tz": -60
    },
    "id": "jGlO7EpU2Ojj",
    "outputId": "3fb1383c-ce93-4f7b-c9fb-16cd7cd6c4c9"
   },
   "outputs": [
    {
     "data": {
      "text/html": [
       "<div>\n",
       "<style scoped>\n",
       "    .dataframe tbody tr th:only-of-type {\n",
       "        vertical-align: middle;\n",
       "    }\n",
       "\n",
       "    .dataframe tbody tr th {\n",
       "        vertical-align: top;\n",
       "    }\n",
       "\n",
       "    .dataframe thead th {\n",
       "        text-align: right;\n",
       "    }\n",
       "</style>\n",
       "<table border=\"1\" class=\"dataframe\">\n",
       "  <thead>\n",
       "    <tr style=\"text-align: right;\">\n",
       "      <th></th>\n",
       "      <th>valence</th>\n",
       "      <th>year</th>\n",
       "      <th>acousticness</th>\n",
       "      <th>artists</th>\n",
       "      <th>danceability</th>\n",
       "      <th>duration_ms</th>\n",
       "      <th>energy</th>\n",
       "      <th>explicit</th>\n",
       "      <th>instrumentalness</th>\n",
       "      <th>key</th>\n",
       "      <th>liveness</th>\n",
       "      <th>loudness</th>\n",
       "      <th>mode</th>\n",
       "      <th>name</th>\n",
       "      <th>popularity</th>\n",
       "      <th>release_date</th>\n",
       "      <th>speechiness</th>\n",
       "      <th>tempo</th>\n",
       "      <th>MainArtist</th>\n",
       "      <th>PopAverage</th>\n",
       "    </tr>\n",
       "  </thead>\n",
       "  <tbody>\n",
       "    <tr>\n",
       "      <th>0</th>\n",
       "      <td>0.0594</td>\n",
       "      <td>1921</td>\n",
       "      <td>0.98200</td>\n",
       "      <td>['Sergei Rachmaninoff', 'James Levine', 'Berli...</td>\n",
       "      <td>0.279</td>\n",
       "      <td>831667</td>\n",
       "      <td>0.211</td>\n",
       "      <td>0</td>\n",
       "      <td>0.878000</td>\n",
       "      <td>10</td>\n",
       "      <td>0.6650</td>\n",
       "      <td>-20.096</td>\n",
       "      <td>1</td>\n",
       "      <td>Piano Concerto No. 3 in D Minor, Op. 30: III. ...</td>\n",
       "      <td>0.04</td>\n",
       "      <td>1921</td>\n",
       "      <td>0.0366</td>\n",
       "      <td>80.954</td>\n",
       "      <td>Sergei Rachmaninoff</td>\n",
       "      <td>0.057640</td>\n",
       "    </tr>\n",
       "    <tr>\n",
       "      <th>1</th>\n",
       "      <td>0.9630</td>\n",
       "      <td>1921</td>\n",
       "      <td>0.73200</td>\n",
       "      <td>['Dennis Day']</td>\n",
       "      <td>0.819</td>\n",
       "      <td>180533</td>\n",
       "      <td>0.341</td>\n",
       "      <td>0</td>\n",
       "      <td>0.000000</td>\n",
       "      <td>7</td>\n",
       "      <td>0.1600</td>\n",
       "      <td>-12.441</td>\n",
       "      <td>1</td>\n",
       "      <td>Clancy Lowered the Boom</td>\n",
       "      <td>0.05</td>\n",
       "      <td>1921</td>\n",
       "      <td>0.4150</td>\n",
       "      <td>60.936</td>\n",
       "      <td>Dennis Day</td>\n",
       "      <td>0.030000</td>\n",
       "    </tr>\n",
       "    <tr>\n",
       "      <th>2</th>\n",
       "      <td>0.0394</td>\n",
       "      <td>1921</td>\n",
       "      <td>0.96100</td>\n",
       "      <td>['KHP Kridhamardawa Karaton Ngayogyakarta Hadi...</td>\n",
       "      <td>0.328</td>\n",
       "      <td>500062</td>\n",
       "      <td>0.166</td>\n",
       "      <td>0</td>\n",
       "      <td>0.913000</td>\n",
       "      <td>3</td>\n",
       "      <td>0.1010</td>\n",
       "      <td>-14.850</td>\n",
       "      <td>1</td>\n",
       "      <td>Gati Bali</td>\n",
       "      <td>0.05</td>\n",
       "      <td>1921</td>\n",
       "      <td>0.0339</td>\n",
       "      <td>110.339</td>\n",
       "      <td>KHP Kridhamardawa Karaton Ngayogyakarta Hadini...</td>\n",
       "      <td>0.024286</td>\n",
       "    </tr>\n",
       "    <tr>\n",
       "      <th>3</th>\n",
       "      <td>0.1650</td>\n",
       "      <td>1921</td>\n",
       "      <td>0.96700</td>\n",
       "      <td>['Frank Parker']</td>\n",
       "      <td>0.275</td>\n",
       "      <td>210000</td>\n",
       "      <td>0.309</td>\n",
       "      <td>0</td>\n",
       "      <td>0.000028</td>\n",
       "      <td>5</td>\n",
       "      <td>0.3810</td>\n",
       "      <td>-9.316</td>\n",
       "      <td>1</td>\n",
       "      <td>Danny Boy</td>\n",
       "      <td>0.03</td>\n",
       "      <td>1921</td>\n",
       "      <td>0.0354</td>\n",
       "      <td>100.109</td>\n",
       "      <td>Frank Parker</td>\n",
       "      <td>0.030000</td>\n",
       "    </tr>\n",
       "    <tr>\n",
       "      <th>4</th>\n",
       "      <td>0.2530</td>\n",
       "      <td>1921</td>\n",
       "      <td>0.95700</td>\n",
       "      <td>['Phil Regan']</td>\n",
       "      <td>0.418</td>\n",
       "      <td>166693</td>\n",
       "      <td>0.193</td>\n",
       "      <td>0</td>\n",
       "      <td>0.000002</td>\n",
       "      <td>3</td>\n",
       "      <td>0.2290</td>\n",
       "      <td>-10.096</td>\n",
       "      <td>1</td>\n",
       "      <td>When Irish Eyes Are Smiling</td>\n",
       "      <td>0.02</td>\n",
       "      <td>1921</td>\n",
       "      <td>0.0380</td>\n",
       "      <td>101.665</td>\n",
       "      <td>Phil Regan</td>\n",
       "      <td>0.013333</td>\n",
       "    </tr>\n",
       "    <tr>\n",
       "      <th>...</th>\n",
       "      <td>...</td>\n",
       "      <td>...</td>\n",
       "      <td>...</td>\n",
       "      <td>...</td>\n",
       "      <td>...</td>\n",
       "      <td>...</td>\n",
       "      <td>...</td>\n",
       "      <td>...</td>\n",
       "      <td>...</td>\n",
       "      <td>...</td>\n",
       "      <td>...</td>\n",
       "      <td>...</td>\n",
       "      <td>...</td>\n",
       "      <td>...</td>\n",
       "      <td>...</td>\n",
       "      <td>...</td>\n",
       "      <td>...</td>\n",
       "      <td>...</td>\n",
       "      <td>...</td>\n",
       "      <td>...</td>\n",
       "    </tr>\n",
       "    <tr>\n",
       "      <th>170648</th>\n",
       "      <td>0.6080</td>\n",
       "      <td>2020</td>\n",
       "      <td>0.08460</td>\n",
       "      <td>['Anuel AA', 'Daddy Yankee', 'KAROL G', 'Ozuna...</td>\n",
       "      <td>0.786</td>\n",
       "      <td>301714</td>\n",
       "      <td>0.808</td>\n",
       "      <td>0</td>\n",
       "      <td>0.000289</td>\n",
       "      <td>7</td>\n",
       "      <td>0.0822</td>\n",
       "      <td>-3.702</td>\n",
       "      <td>1</td>\n",
       "      <td>China</td>\n",
       "      <td>0.72</td>\n",
       "      <td>2020-05-29</td>\n",
       "      <td>0.0881</td>\n",
       "      <td>105.029</td>\n",
       "      <td>Anuel AA</td>\n",
       "      <td>0.739000</td>\n",
       "    </tr>\n",
       "    <tr>\n",
       "      <th>170649</th>\n",
       "      <td>0.7340</td>\n",
       "      <td>2020</td>\n",
       "      <td>0.20600</td>\n",
       "      <td>['Ashnikko']</td>\n",
       "      <td>0.717</td>\n",
       "      <td>150654</td>\n",
       "      <td>0.753</td>\n",
       "      <td>0</td>\n",
       "      <td>0.000000</td>\n",
       "      <td>7</td>\n",
       "      <td>0.1010</td>\n",
       "      <td>-6.020</td>\n",
       "      <td>1</td>\n",
       "      <td>Halloweenie III: Seven Days</td>\n",
       "      <td>0.68</td>\n",
       "      <td>2020-10-23</td>\n",
       "      <td>0.0605</td>\n",
       "      <td>137.936</td>\n",
       "      <td>Ashnikko</td>\n",
       "      <td>0.702500</td>\n",
       "    </tr>\n",
       "    <tr>\n",
       "      <th>170650</th>\n",
       "      <td>0.6370</td>\n",
       "      <td>2020</td>\n",
       "      <td>0.10100</td>\n",
       "      <td>['MAMAMOO']</td>\n",
       "      <td>0.634</td>\n",
       "      <td>211280</td>\n",
       "      <td>0.858</td>\n",
       "      <td>0</td>\n",
       "      <td>0.000009</td>\n",
       "      <td>4</td>\n",
       "      <td>0.2580</td>\n",
       "      <td>-2.226</td>\n",
       "      <td>0</td>\n",
       "      <td>AYA</td>\n",
       "      <td>0.76</td>\n",
       "      <td>2020-11-03</td>\n",
       "      <td>0.0809</td>\n",
       "      <td>91.688</td>\n",
       "      <td>MAMAMOO</td>\n",
       "      <td>0.734000</td>\n",
       "    </tr>\n",
       "    <tr>\n",
       "      <th>170651</th>\n",
       "      <td>0.1950</td>\n",
       "      <td>2020</td>\n",
       "      <td>0.00998</td>\n",
       "      <td>['Eminem']</td>\n",
       "      <td>0.671</td>\n",
       "      <td>337147</td>\n",
       "      <td>0.623</td>\n",
       "      <td>1</td>\n",
       "      <td>0.000008</td>\n",
       "      <td>2</td>\n",
       "      <td>0.6430</td>\n",
       "      <td>-7.161</td>\n",
       "      <td>1</td>\n",
       "      <td>Darkness</td>\n",
       "      <td>0.70</td>\n",
       "      <td>2020-01-17</td>\n",
       "      <td>0.3080</td>\n",
       "      <td>75.055</td>\n",
       "      <td>Eminem</td>\n",
       "      <td>0.562391</td>\n",
       "    </tr>\n",
       "    <tr>\n",
       "      <th>170652</th>\n",
       "      <td>0.6420</td>\n",
       "      <td>2020</td>\n",
       "      <td>0.13200</td>\n",
       "      <td>['KEVVO', 'J Balvin']</td>\n",
       "      <td>0.856</td>\n",
       "      <td>189507</td>\n",
       "      <td>0.721</td>\n",
       "      <td>1</td>\n",
       "      <td>0.004710</td>\n",
       "      <td>7</td>\n",
       "      <td>0.1820</td>\n",
       "      <td>-4.928</td>\n",
       "      <td>1</td>\n",
       "      <td>Billetes Azules (with J Balvin)</td>\n",
       "      <td>0.74</td>\n",
       "      <td>2020-10-16</td>\n",
       "      <td>0.1080</td>\n",
       "      <td>94.991</td>\n",
       "      <td>KEVVO</td>\n",
       "      <td>0.730000</td>\n",
       "    </tr>\n",
       "  </tbody>\n",
       "</table>\n",
       "<p>170653 rows × 20 columns</p>\n",
       "</div>"
      ],
      "text/plain": [
       "        valence  ...  PopAverage\n",
       "0        0.0594  ...    0.057640\n",
       "1        0.9630  ...    0.030000\n",
       "2        0.0394  ...    0.024286\n",
       "3        0.1650  ...    0.030000\n",
       "4        0.2530  ...    0.013333\n",
       "...         ...  ...         ...\n",
       "170648   0.6080  ...    0.739000\n",
       "170649   0.7340  ...    0.702500\n",
       "170650   0.6370  ...    0.734000\n",
       "170651   0.1950  ...    0.562391\n",
       "170652   0.6420  ...    0.730000\n",
       "\n",
       "[170653 rows x 20 columns]"
      ]
     },
     "execution_count": 30,
     "metadata": {
      "tags": []
     },
     "output_type": "execute_result"
    }
   ],
   "source": [
    "df"
   ]
  },
  {
   "cell_type": "code",
   "execution_count": 31,
   "metadata": {
    "colab": {
     "base_uri": "https://localhost:8080/"
    },
    "executionInfo": {
     "elapsed": 477975,
     "status": "ok",
     "timestamp": 1610366617072,
     "user": {
      "displayName": "Hugo Sanjurjo González",
      "photoUrl": "",
      "userId": "05468266917062109477"
     },
     "user_tz": -60
    },
    "id": "Rnro5AIp2fAE",
    "outputId": "f8742eb0-8804-4691-d9a0-1dc3cb57c6a3"
   },
   "outputs": [
    {
     "name": "stdout",
     "output_type": "stream",
     "text": [
      "Precisión: 0.8355084982106942\n",
      "Popularidad real: 0.5 Popularidad de predicción: 0.5803128810262619\n",
      "Popularidad real: 0.61 Popularidad de predicción: 0.49043164161786734\n",
      "Popularidad real: 0.54 Popularidad de predicción: 0.6331187377185294\n",
      "Popularidad real: 0.29 Popularidad de predicción: 0.34611728636417904\n",
      "Popularidad real: 0.0 Popularidad de predicción: -0.021326310093020773\n",
      "Popularidad real: 0.09 Popularidad de predicción: 0.10928326221766049\n",
      "Popularidad real: 0.17 Popularidad de predicción: 0.17577883073305234\n",
      "Popularidad real: 0.59 Popularidad de predicción: 0.6148815595643509\n",
      "Popularidad real: 0.68 Popularidad de predicción: 0.626363276942091\n",
      "Popularidad real: 0.66 Popularidad de predicción: 0.6932687535052464\n",
      "Popularidad real: 0.17 Popularidad de predicción: 0.2674666311344076\n",
      "Popularidad real: 0.37 Popularidad de predicción: 0.5116129924442756\n",
      "Popularidad real: 0.41 Popularidad de predicción: 0.5249638414481961\n",
      "Popularidad real: 0.49 Popularidad de predicción: 0.5440354496435731\n",
      "Popularidad real: 0.38 Popularidad de predicción: 0.43921615484398746\n",
      "Popularidad real: 0.32 Popularidad de predicción: 0.22430449461872648\n",
      "Popularidad real: 0.46 Popularidad de predicción: 0.4838218319919818\n",
      "Popularidad real: 0.3 Popularidad de predicción: 0.31125553722985977\n",
      "Popularidad real: 0.7 Popularidad de predicción: 0.7206401435296819\n",
      "Popularidad real: 0.0 Popularidad de predicción: 0.016749021557462385\n",
      "Popularidad real: 0.35 Popularidad de predicción: 0.35404071151374517\n",
      "Popularidad real: 0.43 Popularidad de predicción: 0.4654999816707903\n",
      "Popularidad real: 0.27 Popularidad de predicción: 0.391959100491329\n",
      "Popularidad real: 0.61 Popularidad de predicción: 0.6267816397631512\n",
      "Popularidad real: 0.01 Popularidad de predicción: 0.027261169687063713\n",
      "Popularidad real: 0.54 Popularidad de predicción: 0.3532313492343224\n",
      "Popularidad real: 0.5 Popularidad de predicción: 0.5383644858750607\n",
      "Popularidad real: 0.26 Popularidad de predicción: 0.39401523527622473\n",
      "Popularidad real: 0.39 Popularidad de predicción: 0.4434751382665896\n",
      "Popularidad real: 0.65 Popularidad de predicción: 0.6920160032380771\n",
      "Popularidad real: 0.11 Popularidad de predicción: 0.10545396312724797\n",
      "Popularidad real: 0.16 Popularidad de predicción: 0.259597864960476\n",
      "Popularidad real: 0.28 Popularidad de predicción: 0.3591302153947371\n",
      "Popularidad real: 0.31 Popularidad de predicción: 0.41256692393473315\n",
      "Popularidad real: 0.24 Popularidad de predicción: 0.3368906279707069\n",
      "Popularidad real: 0.3 Popularidad de predicción: 0.3662657221061343\n",
      "Popularidad real: 0.05 Popularidad de predicción: 0.07275272651456177\n",
      "Popularidad real: 0.08 Popularidad de predicción: 0.10817583786457963\n",
      "Popularidad real: 0.53 Popularidad de predicción: 0.538569991962115\n",
      "Popularidad real: 0.0 Popularidad de predicción: -0.025513536802602488\n",
      "Popularidad real: 0.53 Popularidad de predicción: 0.635128403345103\n",
      "Popularidad real: 0.08 Popularidad de predicción: 0.13675348752640826\n",
      "Popularidad real: 0.7 Popularidad de predicción: 0.6970692416713318\n",
      "Popularidad real: 0.55 Popularidad de predicción: 0.5010074285046109\n",
      "Popularidad real: 0.0 Popularidad de predicción: 0.015071915172500283\n",
      "Popularidad real: 0.18 Popularidad de predicción: 0.2628855475561753\n",
      "Popularidad real: 0.48 Popularidad de predicción: 0.31793126985484044\n",
      "Popularidad real: 0.55 Popularidad de predicción: 0.2400558924506324\n",
      "Popularidad real: 0.29 Popularidad de predicción: 0.34144127090379683\n",
      "Popularidad real: 0.18 Popularidad de predicción: 0.17582040714034353\n"
     ]
    }
   ],
   "source": [
    "\"Hacemos lo mismo que con el modelo anterior pero esta vez tenemos en cuenta la popularidad media de las canciones de el artista principal\"\n",
    "regresion_x=df[[\"tempo\",\"loudness\",\"energy\", \"year\", \"PopAverage\"]]\n",
    "regresion_y=df[\"popularity\"]\n",
    "\n",
    "X_train, X_test, y_train, y_test = train_test_split(regresion_x, regresion_y, test_size=0.2, random_state=0)\n",
    "reg = LinearRegression().fit(X_train, y_train)\n",
    "print(\"Precisión: \"+str(reg.score(X_test, y_test)))\n",
    "pred=reg.predict(X_test)\n",
    "for i in range(len(pred[0:50])): \n",
    "    pre=pred[i]\n",
    "    real=y_test.iloc[i]\n",
    "    print(\"Popularidad real: \"+str(real)+\" Popularidad de predicción: \"+str(pre))"
   ]
  },
  {
   "cell_type": "markdown",
   "metadata": {
    "id": "ufoTJ4WB5iZh"
   },
   "source": [
    "## Como se puede ver hay una mejora notable en la precisión del modelo por lo que tener en cuenta la popularidad de el artista ha sido un acierto. La precisión obtenida es muy elevada por lo que creemos qyue se ha cumplido con lo requerido."
   ]
  }
 ],
 "metadata": {
  "colab": {
   "collapsed_sections": [],
   "name": "6_pr4.ipynb",
   "provenance": [],
   "toc_visible": true
  },
  "kernelspec": {
   "display_name": "Python 3",
   "name": "python3"
  }
 },
 "nbformat": 4,
 "nbformat_minor": 0
}
